{
 "cells": [
  {
   "cell_type": "code",
   "execution_count": 1,
   "source": [
    "# SETUP\r\n",
    "# !pip install ipython_sql\r\n",
    "%load_ext sql\r\n",
    "%config SqlMagic.displaycon = False\r\n",
    "%config SqlMagic.feedback = False\r\n",
    "%sql sqlite:///dw_definitions.sqlite.db"
   ],
   "outputs": [],
   "metadata": {}
  },
  {
   "cell_type": "code",
   "execution_count": 25,
   "source": [
    "%%sql\r\n",
    "CREATE TABLE IF NOT EXISTS definitions (\r\n",
    "   def_id INTEGER PRIMARY KEY AUTOINCREMENT,\r\n",
    "   term TEXT NOT NULL,\r\n",
    "   notes TEXT NOT NULL,\r\n",
    "   examples TEXT NOT NULL\r\n",
    ")"
   ],
   "outputs": [
    {
     "output_type": "execute_result",
     "data": {
      "text/plain": [
       "[]"
      ]
     },
     "metadata": {},
     "execution_count": 25
    }
   ],
   "metadata": {}
  },
  {
   "cell_type": "code",
   "execution_count": 24,
   "source": [
    "# %%sql\r\n",
    "# DROP TABLE definitions;"
   ],
   "outputs": [
    {
     "output_type": "execute_result",
     "data": {
      "text/plain": [
       "[]"
      ]
     },
     "metadata": {},
     "execution_count": 24
    }
   ],
   "metadata": {}
  },
  {
   "cell_type": "code",
   "execution_count": 33,
   "source": [
    "%%sql\r\n",
    "INSERT INTO definitions (term, notes, examples)\r\n",
    "VALUES (\r\n",
    "    'Measures'\r\n",
    "    , 'Numeric Quantities'\r\n",
    "    , '''Monetary Amounts: Cost of Raw Materials, Value of a sale, Operational Expenses, Labor Expenses'''\r\n",
    ")"
   ],
   "outputs": [
    {
     "output_type": "execute_result",
     "data": {
      "text/plain": [
       "[]"
      ]
     },
     "metadata": {},
     "execution_count": 33
    }
   ],
   "metadata": {}
  },
  {
   "cell_type": "code",
   "execution_count": 34,
   "source": [
    "definitions = %sql SELECT * FROM definitions\r\n",
    "definitions"
   ],
   "outputs": [
    {
     "output_type": "execute_result",
     "data": {
      "text/html": [
       "<table>\n",
       "    <tr>\n",
       "        <th>def_id</th>\n",
       "        <th>term</th>\n",
       "        <th>notes</th>\n",
       "        <th>examples</th>\n",
       "    </tr>\n",
       "    <tr>\n",
       "        <td>1</td>\n",
       "        <td>Measures</td>\n",
       "        <td>Numeric Quantities</td>\n",
       "        <td>&#x27;Monetary Amounts: Cost of Raw Materials, Value of a sale, Operational Expenses, Labor Expenses&#x27;</td>\n",
       "    </tr>\n",
       "</table>"
      ],
      "text/plain": [
       "[(1, 'Measures', 'Numeric Quantities', \"'Monetary Amounts: Cost of Raw Materials, Value of a sale, Operational Expenses, Labor Expenses'\")]"
      ]
     },
     "metadata": {},
     "execution_count": 34
    }
   ],
   "metadata": {}
  },
  {
   "cell_type": "markdown",
   "source": [
    "# SQL Queries\r\n",
    "+ [SQL Queries in a Jupyter Notebook](https://blog.reviewnb.com/jupyter-sql-notebook/)"
   ],
   "metadata": {}
  }
 ],
 "metadata": {
  "orig_nbformat": 4,
  "language_info": {
   "name": "python",
   "version": "3.8.3",
   "mimetype": "text/x-python",
   "codemirror_mode": {
    "name": "ipython",
    "version": 3
   },
   "pygments_lexer": "ipython3",
   "nbconvert_exporter": "python",
   "file_extension": ".py"
  },
  "kernelspec": {
   "name": "python3",
   "display_name": "Python 3.8.3 64-bit"
  },
  "interpreter": {
   "hash": "2db524e06e9f5f4ffedc911c917cb75e12dbc923643829bf417064a77eb14d37"
  }
 },
 "nbformat": 4,
 "nbformat_minor": 2
}