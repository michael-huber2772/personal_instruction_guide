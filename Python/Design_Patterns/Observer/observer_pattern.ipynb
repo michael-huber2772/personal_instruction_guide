{
 "cells": [
  {
   "cell_type": "markdown",
   "metadata": {},
   "source": [
    "# Observer Pattern\n",
    "High level idea. You have a root object which we can refer to as an observable. The Observable has a way to recognize\n",
    "when some state changes of interest.\n",
    "+ So something will change that the observable will know about.\n",
    "+ Then you have other satelite objects that want to know when this happens. So we need to notify these other entities\n",
    "  when the thing changes.\n",
    "\n",
    "So the pattern is one object speaking to many objects. So they will generally refer to the objects as the Observable\n",
    "and the Observers.\n",
    "\n",
    "Another way to think about it though is the Publisher and the Subscribers. Similar to streaming services such as Goolges\n",
    "Pub/Sub."
   ]
  },
  {
   "cell_type": "code",
   "execution_count": null,
   "metadata": {},
   "outputs": [],
   "source": [
    "class Observable:\n",
    "    def __init__(self):\n",
    "        self.observers = set()\n",
    "    def register(self, who):\n",
    "        self.observers.add(who)\n",
    "    def unregister(self, who):\n",
    "        self.observers.discard(who)\n",
    "    def dispatch(self, message):\n",
    "        for observer in self.observers:\n",
    "            observer.update(message)\n",
    "\n",
    "\n",
    "class Observer:\n",
    "    def __init__(self, name):\n",
    "        self.name = name\n",
    "    def update(self, message):\n",
    "        print('{} got message \"{}\"'.format(self.name, message))"
   ]
  },
  {
   "cell_type": "code",
   "execution_count": 1,
   "metadata": {},
   "outputs": [
    {
     "name": "stdout",
     "output_type": "stream",
     "text": [
      "Alice got message \"It's lunchtime\"\n",
      "John got message \"It's lunchtime\"\n",
      "Bob got message \"It's lunchtime\"\n",
      "Alice got message \"Time for dinner\"\n",
      "Bob got message \"Time for dinner\"\n"
     ]
    }
   ],
   "source": [
    "from observer1 import Publisher, Subscriber\n",
    "\n",
    "pub = Publisher()\n",
    "\n",
    "bob = Subscriber('Bob')\n",
    "alice = Subscriber('Alice')\n",
    "john = Subscriber('John')\n",
    "\n",
    "pub.register(bob)\n",
    "pub.register(alice)\n",
    "pub.register(john)\n",
    "\n",
    "pub.dispatch(\"It's lunchtime\")\n",
    "pub.unregister(john)\n",
    "pub.dispatch(\"Time for dinner\")\n"
   ]
  },
  {
   "cell_type": "code",
   "execution_count": 2,
   "metadata": {},
   "outputs": [
    {
     "name": "stdout",
     "output_type": "stream",
     "text": [
      "Bob got message \"It's lunchtime\"\n",
      "Alice got message \"It's lunchtime\"\n",
      "John got message \"It's lunchtime\"\n",
      "Bob got message \"Time for dinner\"\n",
      "Alice got message \"Time for dinner\"\n"
     ]
    }
   ],
   "source": [
    "from observer2 import *\n",
    "\n",
    "# Create a publisher object\n",
    "pub = Publisher()\n",
    "\n",
    "# Create subscriber objects\n",
    "bob = SubscriberOne('Bob')\n",
    "alice = SubscriberTwo('Alice')\n",
    "john = SubscriberOne('John')\n",
    "\n",
    "# Then the subscribers register with the publisher\n",
    "pub.register(bob, bob.update)\n",
    "pub.register(alice, alice.receive)\n",
    "pub.register(john)\n",
    "\n",
    "# Then we dispatch a message\n",
    "pub.dispatch(\"It's lunchtime\")\n",
    "pub.unregister(john)\n",
    "pub.dispatch(\"Time for dinner\")"
   ]
  },
  {
   "cell_type": "markdown",
   "metadata": {},
   "source": [
    "## Observing Events\n",
    "With the observer pattern you could set something up that allows you to notify one group of subscribers when say event\n",
    "1 happens. But then you can notify a different set of subscribers when event 2 happens.\n",
    "+ You can have different events that happen"
   ]
  },
  {
   "cell_type": "code",
   "execution_count": 3,
   "metadata": {},
   "outputs": [
    {
     "name": "stdout",
     "output_type": "stream",
     "text": [
      "Bob got message \"It's lunchtime\"\n",
      "John got message \"It's lunchtime\"\n",
      "Alice got message \"Time for dinner\"\n",
      "John got message \"Time for dinner\"\n",
      "Alice got message \"Please pick up your food at window 13\"\n"
     ]
    }
   ],
   "source": [
    "from observer3 import *\n",
    "\n",
    "# Create a publisher object\n",
    "pub = Publisher(['lunch', 'dinner'])\n",
    "\n",
    "# Create subscriber objects\n",
    "bob = Subscriber('Bob')\n",
    "alice = Subscriber('Alice')\n",
    "john = Subscriber('John')\n",
    "\n",
    "# Then the subscribers register with the publisher\n",
    "pub.register('lunch', bob)\n",
    "pub.register('dinner', alice)\n",
    "pub.register('lunch', john)\n",
    "pub.register('dinner', john)\n",
    "\n",
    "# Then we dispatch a message\n",
    "pub.dispatch('lunch', \"It's lunchtime\")\n",
    "pub.dispatch('dinner', \"Time for dinner\")\n",
    "pub.unregister('dinner', john)\n",
    "pub.dispatch('dinner', \"Please pick up your food at window 13\")"
   ]
  },
  {
   "cell_type": "markdown",
   "metadata": {},
   "source": [
    "# References\n",
    "+ [Tutorial](https://www.protechtraining.com/blog/post/tutorial-the-observer-pattern-in-python-879#intro)"
   ]
  }
 ],
 "metadata": {
  "interpreter": {
   "hash": "916dbcbb3f70747c44a77c7bcd40155683ae19c65e1c03b4aa3499c5328201f1"
  },
  "kernelspec": {
   "display_name": "Python 3.8.10 64-bit",
   "name": "python3"
  },
  "language_info": {
   "codemirror_mode": {
    "name": "ipython",
    "version": 3
   },
   "file_extension": ".py",
   "mimetype": "text/x-python",
   "name": "python",
   "nbconvert_exporter": "python",
   "pygments_lexer": "ipython3",
   "version": "3.8.10"
  },
  "orig_nbformat": 4
 },
 "nbformat": 4,
 "nbformat_minor": 2
}
